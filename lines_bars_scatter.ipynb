{
 "cells": [
  {
   "cell_type": "markdown",
   "id": "65ba9e32-6fad-4008-bdec-dff7e4dfd4c9",
   "metadata": {},
   "source": [
    "# Lines, Bars, and Scatter plots"
   ]
  },
  {
   "cell_type": "code",
   "execution_count": null,
   "id": "395bc814-3757-402b-8c2c-e24971c8fc8d",
   "metadata": {},
   "outputs": [],
   "source": []
  }
 ],
 "metadata": {
  "kernelspec": {
   "display_name": "Python 3 (ipykernel)",
   "language": "python",
   "name": "python3"
  },
  "language_info": {
   "codemirror_mode": {
    "name": "ipython",
    "version": 3
   },
   "file_extension": ".py",
   "mimetype": "text/x-python",
   "name": "python",
   "nbconvert_exporter": "python",
   "pygments_lexer": "ipython3",
   "version": "3.12.7"
  }
 },
 "nbformat": 4,
 "nbformat_minor": 5
}
